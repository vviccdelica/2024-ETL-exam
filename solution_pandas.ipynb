{
 "cells": [
  {
   "cell_type": "code",
   "execution_count": 12,
   "metadata": {},
   "outputs": [],
   "source": [
    "import pandas as pd\n",
    "import os\n",
    "import sqlite3 as sql3"
   ]
  },
  {
   "cell_type": "code",
   "execution_count": 13,
   "metadata": {},
   "outputs": [],
   "source": [
    "currentdir = os.getcwd()\n",
    "db_path = f\"{currentdir}\\\\S30 ETL Assignment.db\"\n",
    "# print(db_path)"
   ]
  },
  {
   "cell_type": "code",
   "execution_count": 14,
   "metadata": {},
   "outputs": [],
   "source": [
    "def tables_extract(db_path):\n",
    "    conn = sql3.connect(db_path)\n",
    "    dfs = {}\n",
    "\n",
    "    query = \"SELECT name FROM sqlite_master WHERE type='table' AND name NOT LIKE 'sqlite_%';\"\n",
    "    tables = pd.read_sql(query, conn)['name'].tolist()\n",
    "\n",
    "    for table in tables:\n",
    "        dfs[table] = pd.read_sql(f\"SELECT * FROM {table}\", conn)\n",
    "\n",
    "    conn.close()\n",
    "    \n",
    "    return dfs"
   ]
  },
  {
   "cell_type": "code",
   "execution_count": 15,
   "metadata": {},
   "outputs": [],
   "source": [
    "dfs = tables_extract(db_path)"
   ]
  },
  {
   "cell_type": "code",
   "execution_count": 16,
   "metadata": {},
   "outputs": [
    {
     "data": {
      "text/plain": [
       "{'sales':      sales_id  customer_id\n",
       " 0           1           10\n",
       " 1           2           85\n",
       " 2           3           42\n",
       " 3           4           93\n",
       " 4           5           75\n",
       " ..        ...          ...\n",
       " 495       496           22\n",
       " 496       497           68\n",
       " 497       498           77\n",
       " 498       499           10\n",
       " 499       500           31\n",
       " \n",
       " [500 rows x 2 columns],\n",
       " 'orders':       order_id  sales_id  item_id  quantity\n",
       " 0            1         1        1       2.0\n",
       " 1            2         1        2       NaN\n",
       " 2            3         1        3       1.0\n",
       " 3            4         2        1       1.0\n",
       " 4            5         2        2       1.0\n",
       " ...        ...       ...      ...       ...\n",
       " 1495      1496       499        2       NaN\n",
       " 1496      1497       499        3       2.0\n",
       " 1497      1498       500        1       1.0\n",
       " 1498      1499       500        2       2.0\n",
       " 1499      1500       500        3       4.0\n",
       " \n",
       " [1500 rows x 4 columns],\n",
       " 'items':    item_id item_name\n",
       " 0        1         x\n",
       " 1        2         y\n",
       " 2        3         z,\n",
       " 'customers':     customer_id  age\n",
       " 0             1   38\n",
       " 1             2   43\n",
       " 2             3   13\n",
       " 3             4   39\n",
       " 4             5   18\n",
       " ..          ...  ...\n",
       " 95           96   70\n",
       " 96           97   23\n",
       " 97           98   41\n",
       " 98           99   56\n",
       " 99          100   30\n",
       " \n",
       " [100 rows x 2 columns]}"
      ]
     },
     "execution_count": 16,
     "metadata": {},
     "output_type": "execute_result"
    }
   ],
   "source": [
    "dfs"
   ]
  },
  {
   "cell_type": "code",
   "execution_count": 17,
   "metadata": {},
   "outputs": [],
   "source": [
    "# Create filtered customer_sales subset\n",
    "df_customers = dfs['customers'][(dfs['customers']['age'] >= 18) & (dfs['customers']['age'] <= 35)]\n",
    "df_customer_sales = df_customers.merge(dfs['sales'], on='customer_id', how='inner')\n",
    "\n",
    "# Create orders_items subset\n",
    "df_orders_items = dfs['orders'].merge(dfs['items'], on='item_id', how='inner')\n",
    "\n",
    "# Process df_orders_items\n",
    "df_orders_items = df_orders_items[df_orders_items['quantity'] > 0]\n",
    "df_orders_items['quantity'] = df_orders_items['quantity'].astype('int64')\n",
    "\n",
    "# Merge customer_sales and df_orders_items ON sales_id\n",
    "df_merged_all = df_customer_sales.merge(df_orders_items, on='sales_id', how='inner')\n",
    "\n",
    "# Aggregate\n",
    "df_final = (df_merged_all.groupby(['customer_id', 'age', 'item_name'])\n",
    "                    .agg(order_quantity=('quantity', 'sum'))\n",
    "                    .reset_index()\n",
    "                    .query('order_quantity > 0')\n",
    "                    .sort_values(by=['customer_id', 'order_quantity'], ascending=[True, False]))"
   ]
  },
  {
   "cell_type": "code",
   "execution_count": null,
   "metadata": {},
   "outputs": [],
   "source": [
    "df_final"
   ]
  },
  {
   "cell_type": "code",
   "execution_count": 18,
   "metadata": {},
   "outputs": [],
   "source": [
    "# df_final.to_csv('test_pandas.csv',sep=';',index=False)\n",
    "df_final.to_csv('test_pandas.csv',sep=',',index=False)"
   ]
  },
  {
   "cell_type": "code",
   "execution_count": null,
   "metadata": {},
   "outputs": [],
   "source": []
  }
 ],
 "metadata": {
  "kernelspec": {
   "display_name": "Python 3",
   "language": "python",
   "name": "python3"
  },
  "language_info": {
   "codemirror_mode": {
    "name": "ipython",
    "version": 3
   },
   "file_extension": ".py",
   "mimetype": "text/x-python",
   "name": "python",
   "nbconvert_exporter": "python",
   "pygments_lexer": "ipython3",
   "version": "3.12.4"
  },
  "orig_nbformat": 4
 },
 "nbformat": 4,
 "nbformat_minor": 2
}
